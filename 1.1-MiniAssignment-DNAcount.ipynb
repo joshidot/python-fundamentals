{
 "cells": [
  {
   "cell_type": "markdown",
   "metadata": {},
   "source": [
    "## Mini  Assignment:\n",
    "Create a DNA string of 10,000 characters and count the following: A,T,G,C,all combination of two charaters, all combinations of three characters.\n",
    "\n",
    "**Author: Bhogendra Kathayat,**\n",
    "PhD student\n",
    "CDP, TU"
   ]
  },
  {
   "cell_type": "code",
   "execution_count": 1,
   "metadata": {},
   "outputs": [],
   "source": [
    "import random as rn\n",
    "d = ['A','T','G','C']                                # List of  Characters\n",
    "D = [rn.choice(d) for i in range(10000)]             # Forming a big list of size 10000 from the elements of previous list\n",
    "DNA = ''.join(D)                                     # Joining the string elements inside a list"
   ]
  },
  {
   "cell_type": "markdown",
   "metadata": {},
   "source": [
    "## Solution:"
   ]
  },
  {
   "cell_type": "markdown",
   "metadata": {},
   "source": [
    "#### 1. Counting individual characters in DNA"
   ]
  },
  {
   "cell_type": "code",
   "execution_count": 2,
   "metadata": {},
   "outputs": [
    {
     "name": "stdout",
     "output_type": "stream",
     "text": [
      "{'G': 2519, 'A': 2543, 'C': 2567, 'T': 2371}\n"
     ]
    }
   ],
   "source": [
    "count = {i: DNA.count(i) for i in D}\n",
    "print(count)"
   ]
  },
  {
   "cell_type": "markdown",
   "metadata": {},
   "source": [
    "#### 2. Counting combination of Two Characters in the DNA"
   ]
  },
  {
   "cell_type": "code",
   "execution_count": 3,
   "metadata": {},
   "outputs": [
    {
     "name": "stdout",
     "output_type": "stream",
     "text": [
      "{'AT': 591, 'AG': 610, 'AC': 707, 'TA': 605, 'TG': 605, 'TC': 586, 'GA': 663, 'GT': 592, 'GC': 628, 'CA': 640, 'CT': 613, 'CG': 668}\n"
     ]
    }
   ],
   "source": [
    "from itertools import permutations\n",
    "comb = list(permutations(d,2))                     # Forming a list of tuples of all possible combinations of two characters     \n",
    "join = [''.join(tups) for tups in comb]            # Joining the strings inside each tuple\n",
    "count = {i: DNA.count(i) for i in join}            # Counting all such DNA with two characters\n",
    "print(count)"
   ]
  },
  {
   "cell_type": "markdown",
   "metadata": {},
   "source": [
    "#### 3. Counting combination of Three Characters in the DNA"
   ]
  },
  {
   "cell_type": "code",
   "execution_count": 4,
   "metadata": {},
   "outputs": [
    {
     "name": "stdout",
     "output_type": "stream",
     "text": [
      "{'ATG': 153, 'ATC': 139, 'AGT': 133, 'AGC': 151, 'ACT': 167, 'ACG': 189, 'TAG': 139, 'TAC': 174, 'TGA': 154, 'TGC': 147, 'TCA': 141, 'TCG': 136, 'GAT': 133, 'GAC': 178, 'GTA': 136, 'GTC': 157, 'GCA': 156, 'GCT': 141, 'CAT': 171, 'CAG': 132, 'CTA': 167, 'CTG': 162, 'CGA': 179, 'CGT': 167}\n"
     ]
    }
   ],
   "source": [
    "from itertools import permutations\n",
    "comb = list(permutations(d,3))                     # Forming a list of tuples of all possible combinations of three characters     \n",
    "join = [''.join(tups) for tups in comb]            # Joining the strings inside each tuple\n",
    "count = {i: DNA.count(i) for i in join}            # Counting all such DNA with three characters\n",
    "print(count)"
   ]
  }
 ],
 "metadata": {
  "kernelspec": {
   "display_name": "Python 3",
   "language": "python",
   "name": "python3"
  },
  "language_info": {
   "codemirror_mode": {
    "name": "ipython",
    "version": 3
   },
   "file_extension": ".py",
   "mimetype": "text/x-python",
   "name": "python",
   "nbconvert_exporter": "python",
   "pygments_lexer": "ipython3",
   "version": "3.7.6"
  }
 },
 "nbformat": 4,
 "nbformat_minor": 4
}
